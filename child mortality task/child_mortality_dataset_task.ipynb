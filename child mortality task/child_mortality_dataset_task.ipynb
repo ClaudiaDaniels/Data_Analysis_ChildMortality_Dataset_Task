{
 "cells": [
  {
   "cell_type": "code",
   "execution_count": 6,
   "id": "db2800b7-5e83-484a-864e-6c5d0e5f49bd",
   "metadata": {},
   "outputs": [],
   "source": [
    "import pandas as pd\n",
    "import numpy as np\n",
    "import random\n",
    "import string\n",
    "import seaborn as sns\n",
    "import matplotlib.pyplot as plt\n",
    "from mpl_toolkits.mplot3d import Axes3D"
   ]
  },
  {
   "cell_type": "code",
   "execution_count": 8,
   "id": "2554ec00-4c95-4570-8ba8-e02fdaf2a2f4",
   "metadata": {},
   "outputs": [
    {
     "data": {
      "text/html": [
       "<div>\n",
       "<style scoped>\n",
       "    .dataframe tbody tr th:only-of-type {\n",
       "        vertical-align: middle;\n",
       "    }\n",
       "\n",
       "    .dataframe tbody tr th {\n",
       "        vertical-align: top;\n",
       "    }\n",
       "\n",
       "    .dataframe thead th {\n",
       "        text-align: right;\n",
       "    }\n",
       "</style>\n",
       "<table border=\"1\" class=\"dataframe\">\n",
       "  <thead>\n",
       "    <tr style=\"text-align: right;\">\n",
       "      <th></th>\n",
       "      <th>Country</th>\n",
       "      <th>Region</th>\n",
       "      <th>Mortality Rate (per 1000 live births)</th>\n",
       "      <th>Healthcare Spending (USD)</th>\n",
       "      <th>Access to Clean Water (%)</th>\n",
       "    </tr>\n",
       "  </thead>\n",
       "  <tbody>\n",
       "    <tr>\n",
       "      <th>0</th>\n",
       "      <td>Country A</td>\n",
       "      <td>Region 3</td>\n",
       "      <td>64.0</td>\n",
       "      <td>3423</td>\n",
       "      <td>60</td>\n",
       "    </tr>\n",
       "    <tr>\n",
       "      <th>1</th>\n",
       "      <td>Country B</td>\n",
       "      <td>Region 4</td>\n",
       "      <td>20.6</td>\n",
       "      <td>2714</td>\n",
       "      <td>76</td>\n",
       "    </tr>\n",
       "    <tr>\n",
       "      <th>2</th>\n",
       "      <td>Country C</td>\n",
       "      <td>Region 1</td>\n",
       "      <td>14.4</td>\n",
       "      <td>4686</td>\n",
       "      <td>44</td>\n",
       "    </tr>\n",
       "    <tr>\n",
       "      <th>3</th>\n",
       "      <td>Country D</td>\n",
       "      <td>Region 3</td>\n",
       "      <td>36.8</td>\n",
       "      <td>1213</td>\n",
       "      <td>58</td>\n",
       "    </tr>\n",
       "    <tr>\n",
       "      <th>4</th>\n",
       "      <td>Country E</td>\n",
       "      <td>Region 3</td>\n",
       "      <td>69.1</td>\n",
       "      <td>4102</td>\n",
       "      <td>98</td>\n",
       "    </tr>\n",
       "    <tr>\n",
       "      <th>...</th>\n",
       "      <td>...</td>\n",
       "      <td>...</td>\n",
       "      <td>...</td>\n",
       "      <td>...</td>\n",
       "      <td>...</td>\n",
       "    </tr>\n",
       "    <tr>\n",
       "      <th>295</th>\n",
       "      <td>Country Å¨</td>\n",
       "      <td>Region 4</td>\n",
       "      <td>66.6</td>\n",
       "      <td>4143</td>\n",
       "      <td>86</td>\n",
       "    </tr>\n",
       "    <tr>\n",
       "      <th>296</th>\n",
       "      <td>Country Å©</td>\n",
       "      <td>Region 2</td>\n",
       "      <td>69.1</td>\n",
       "      <td>4350</td>\n",
       "      <td>47</td>\n",
       "    </tr>\n",
       "    <tr>\n",
       "      <th>297</th>\n",
       "      <td>Country Åª</td>\n",
       "      <td>Region 3</td>\n",
       "      <td>54.0</td>\n",
       "      <td>1372</td>\n",
       "      <td>73</td>\n",
       "    </tr>\n",
       "    <tr>\n",
       "      <th>298</th>\n",
       "      <td>Country Å«</td>\n",
       "      <td>Region 1</td>\n",
       "      <td>29.5</td>\n",
       "      <td>1752</td>\n",
       "      <td>74</td>\n",
       "    </tr>\n",
       "    <tr>\n",
       "      <th>299</th>\n",
       "      <td>Country Å¬</td>\n",
       "      <td>Region 4</td>\n",
       "      <td>10.4</td>\n",
       "      <td>1814</td>\n",
       "      <td>71</td>\n",
       "    </tr>\n",
       "  </tbody>\n",
       "</table>\n",
       "<p>300 rows × 5 columns</p>\n",
       "</div>"
      ],
      "text/plain": [
       "        Country    Region  Mortality Rate (per 1000 live births)  \\\n",
       "0     Country A  Region 3                                   64.0   \n",
       "1     Country B  Region 4                                   20.6   \n",
       "2     Country C  Region 1                                   14.4   \n",
       "3     Country D  Region 3                                   36.8   \n",
       "4     Country E  Region 3                                   69.1   \n",
       "..          ...       ...                                    ...   \n",
       "295  Country Å¨  Region 4                                   66.6   \n",
       "296  Country Å©  Region 2                                   69.1   \n",
       "297  Country Åª  Region 3                                   54.0   \n",
       "298  Country Å«  Region 1                                   29.5   \n",
       "299  Country Å¬  Region 4                                   10.4   \n",
       "\n",
       "     Healthcare Spending (USD)  Access to Clean Water (%)  \n",
       "0                         3423                         60  \n",
       "1                         2714                         76  \n",
       "2                         4686                         44  \n",
       "3                         1213                         58  \n",
       "4                         4102                         98  \n",
       "..                         ...                        ...  \n",
       "295                       4143                         86  \n",
       "296                       4350                         47  \n",
       "297                       1372                         73  \n",
       "298                       1752                         74  \n",
       "299                       1814                         71  \n",
       "\n",
       "[300 rows x 5 columns]"
      ]
     },
     "execution_count": 8,
     "metadata": {},
     "output_type": "execute_result"
    }
   ],
   "source": [
    "cmd_hometest = pd.read_excel('child_mortality_data_homework.xlsx')\n",
    "cmd_hometest"
   ]
  },
  {
   "cell_type": "code",
   "execution_count": 10,
   "id": "7915331a-5c3c-4bb0-adf7-4e2034c5216a",
   "metadata": {},
   "outputs": [
    {
     "name": "stdout",
     "output_type": "stream",
     "text": [
      "<class 'pandas.core.frame.DataFrame'>\n",
      "RangeIndex: 300 entries, 0 to 299\n",
      "Data columns (total 5 columns):\n",
      " #   Column                                 Non-Null Count  Dtype  \n",
      "---  ------                                 --------------  -----  \n",
      " 0   Country                                300 non-null    object \n",
      " 1   Region                                 300 non-null    object \n",
      " 2   Mortality Rate (per 1000 live births)  300 non-null    float64\n",
      " 3   Healthcare Spending (USD)              300 non-null    int64  \n",
      " 4   Access to Clean Water (%)              300 non-null    int64  \n",
      "dtypes: float64(1), int64(2), object(2)\n",
      "memory usage: 11.8+ KB\n"
     ]
    },
    {
     "data": {
      "text/plain": [
       "Country                                  0\n",
       "Region                                   0\n",
       "Mortality Rate (per 1000 live births)    0\n",
       "Healthcare Spending (USD)                0\n",
       "Access to Clean Water (%)                0\n",
       "dtype: int64"
      ]
     },
     "execution_count": 10,
     "metadata": {},
     "output_type": "execute_result"
    }
   ],
   "source": [
    "cmd_hometest.head()\n",
    "cmd_hometest.info()\n",
    "cmd_hometest.isnull().sum()"
   ]
  },
  {
   "cell_type": "code",
   "execution_count": 12,
   "id": "727ccc98-48e7-48db-b65d-2b87cd5bb90b",
   "metadata": {},
   "outputs": [],
   "source": [
    "Region = ['Region 1','Region 2','Region 3','Region 4']\n",
    "Mortality_rate = ['20','40','60','80','100']"
   ]
  },
  {
   "cell_type": "code",
   "execution_count": 14,
   "id": "bf0ee81a-bf5f-45c9-8d0f-fe67e30e6f5e",
   "metadata": {},
   "outputs": [
    {
     "data": {
      "text/plain": [
       "<function matplotlib.pyplot.show(close=None, block=None)>"
      ]
     },
     "execution_count": 14,
     "metadata": {},
     "output_type": "execute_result"
    },
    {
     "data": {
      "image/png": "[encoded data removed]",
      "text/plain": [
       "<Figure size 640x480 with 1 Axes>"
      ]
     },
     "metadata": {},
     "output_type": "display_data"
    }
   ],
   "source": [
    "sns.barplot(data=cmd_hometest, x='Region', y='Mortality Rate (per 1000 live births)', color='#4CAF50')\n",
    "plt.title('Conversion vs Region plot')\n",
    "plt.xlabel('Region')\n",
    "plt.ylabel('Conversions')\n",
    "plt.show"
   ]
  },
  {
   "cell_type": "code",
   "execution_count": 16,
   "id": "a0fd4641-df49-45c7-a63d-ee3ba7b3a45e",
   "metadata": {},
   "outputs": [
    {
     "name": "stderr",
     "output_type": "stream",
     "text": [
      "C:\\Users\\Claudia\\AppData\\Local\\Temp\\ipykernel_9912\\2979432663.py:1: UserWarning: Ignoring `palette` because no `hue` variable has been assigned.\n",
      "  sns.scatterplot(data=cmd_hometest, x='Healthcare Spending (USD)', y='Mortality Rate (per 1000 live births)', palette='rocket',)\n"
     ]
    },
    {
     "data": {
      "text/plain": [
       "<function matplotlib.pyplot.show(close=None, block=None)>"
      ]
     },
     "execution_count": 16,
     "metadata": {},
     "output_type": "execute_result"
    },
    {
     "data": {
      "image/png": "[encoded data removed]",
      "text/plain": [
       "<Figure size 640x480 with 1 Axes>"
      ]
     },
     "metadata": {},
     "output_type": "display_data"
    },
    {
     "data": {
      "image/png": "[encoded data removed]",
      "text/plain": [
       "<Figure size 1000x500 with 1 Axes>"
      ]
     },
     "metadata": {},
     "output_type": "display_data"
    }
   ],
   "source": [
    "sns.scatterplot(data=cmd_hometest, x='Healthcare Spending (USD)', y='Mortality Rate (per 1000 live births)', palette='rocket',)\n",
    "plt.figure(figsize=(10,5))\n",
    "plt.title('Healthcare vs mortality rate plot')\n",
    "plt.xlabel('Healthcare')\n",
    "plt.ylabel('Mortality rate')\n",
    "plt.show"
   ]
  },
  {
   "cell_type": "code",
   "execution_count": 24,
   "id": "cbcf4f4a-bff5-4b60-914e-999fdb215edd",
   "metadata": {},
   "outputs": [],
   "source": [
    "import scipy.stats as stats\n",
    "import scipy.stats as pearsonr\n",
    "import scipy.stats as spearmanr"
   ]
  },
  {
   "cell_type": "markdown",
   "id": "c7b33992-2e7d-4b36-9aa9-b833f85eb700",
   "metadata": {},
   "source": [
    "# T test\n",
    "\n",
    "the null hypothesis states that the child mortality rate in region 1 and region 3 have no significant difference\n",
    "\n",
    "while the alternative hypothesis states that child mortality rate in region 1 and region 3 have a significant difference"
   ]
  },
  {
   "cell_type": "code",
   "execution_count": 26,
   "id": "cb811e44-045f-4d8c-8a9d-9cc9736bc627",
   "metadata": {},
   "outputs": [],
   "source": [
    "region_1=cmd_hometest[cmd_hometest['Region']=='Region 1']['Mortality Rate (per 1000 live births)']\n",
    "region_3=cmd_hometest[cmd_hometest['Region']=='Region 2']['Mortality Rate (per 1000 live births)']"
   ]
  },
  {
   "cell_type": "code",
   "execution_count": 28,
   "id": "ee7e23ea-6a31-4030-9c3b-92e8dd91195c",
   "metadata": {},
   "outputs": [
    {
     "data": {
      "text/plain": [
       "(-1.0610175035998146, 0.2905089016734515)"
      ]
     },
     "execution_count": 28,
     "metadata": {},
     "output_type": "execute_result"
    }
   ],
   "source": [
    "t_stat, p_value=stats.ttest_ind(region_1,region_3)\n",
    "t_stat, p_value"
   ]
  },
  {
   "cell_type": "markdown",
   "id": "a458070e-be8c-4a6e-ad72-e896065c32eb",
   "metadata": {},
   "source": [
    "## interpretation\n",
    "\n",
    "The t-test comparing child mortality rates between Region 1 and Region 3 yields a t-statistic of -1.061 and a p-value of 0.291. \n",
    "Since the p-value is greater than the common significance level of 0.05, we fail to reject the null hypothesis. \n",
    "This indicates that there is no statistically significant difference in child mortality rates between Region 1 and Region 3 based on the available data.\n"
   ]
  },
  {
   "cell_type": "code",
   "execution_count": 43,
   "id": "a8a654ab-cfe9-4d75-909a-408feb4f5bee",
   "metadata": {},
   "outputs": [
    {
     "data": {
      "text/html": [
       "<div>\n",
       "<style scoped>\n",
       "    .dataframe tbody tr th:only-of-type {\n",
       "        vertical-align: middle;\n",
       "    }\n",
       "\n",
       "    .dataframe tbody tr th {\n",
       "        vertical-align: top;\n",
       "    }\n",
       "\n",
       "    .dataframe thead th {\n",
       "        text-align: right;\n",
       "    }\n",
       "</style>\n",
       "<table border=\"1\" class=\"dataframe\">\n",
       "  <thead>\n",
       "    <tr style=\"text-align: right;\">\n",
       "      <th></th>\n",
       "      <th>Country</th>\n",
       "      <th>Region</th>\n",
       "      <th>Mortality Rate (per 1000 live births)</th>\n",
       "      <th>Healthcare Spending (USD)</th>\n",
       "      <th>Access to Clean Water (%)</th>\n",
       "      <th>boo_Mortality Rate (per 1000 live births)</th>\n",
       "    </tr>\n",
       "  </thead>\n",
       "  <tbody>\n",
       "    <tr>\n",
       "      <th>0</th>\n",
       "      <td>Country A</td>\n",
       "      <td>Region 3</td>\n",
       "      <td>64.0</td>\n",
       "      <td>3423</td>\n",
       "      <td>60</td>\n",
       "      <td>True</td>\n",
       "    </tr>\n",
       "    <tr>\n",
       "      <th>1</th>\n",
       "      <td>Country B</td>\n",
       "      <td>Region 4</td>\n",
       "      <td>20.6</td>\n",
       "      <td>2714</td>\n",
       "      <td>76</td>\n",
       "      <td>False</td>\n",
       "    </tr>\n",
       "    <tr>\n",
       "      <th>2</th>\n",
       "      <td>Country C</td>\n",
       "      <td>Region 1</td>\n",
       "      <td>14.4</td>\n",
       "      <td>4686</td>\n",
       "      <td>44</td>\n",
       "      <td>False</td>\n",
       "    </tr>\n",
       "    <tr>\n",
       "      <th>3</th>\n",
       "      <td>Country D</td>\n",
       "      <td>Region 3</td>\n",
       "      <td>36.8</td>\n",
       "      <td>1213</td>\n",
       "      <td>58</td>\n",
       "      <td>False</td>\n",
       "    </tr>\n",
       "    <tr>\n",
       "      <th>4</th>\n",
       "      <td>Country E</td>\n",
       "      <td>Region 3</td>\n",
       "      <td>69.1</td>\n",
       "      <td>4102</td>\n",
       "      <td>98</td>\n",
       "      <td>True</td>\n",
       "    </tr>\n",
       "    <tr>\n",
       "      <th>...</th>\n",
       "      <td>...</td>\n",
       "      <td>...</td>\n",
       "      <td>...</td>\n",
       "      <td>...</td>\n",
       "      <td>...</td>\n",
       "      <td>...</td>\n",
       "    </tr>\n",
       "    <tr>\n",
       "      <th>295</th>\n",
       "      <td>Country Å¨</td>\n",
       "      <td>Region 4</td>\n",
       "      <td>66.6</td>\n",
       "      <td>4143</td>\n",
       "      <td>86</td>\n",
       "      <td>True</td>\n",
       "    </tr>\n",
       "    <tr>\n",
       "      <th>296</th>\n",
       "      <td>Country Å©</td>\n",
       "      <td>Region 2</td>\n",
       "      <td>69.1</td>\n",
       "      <td>4350</td>\n",
       "      <td>47</td>\n",
       "      <td>True</td>\n",
       "    </tr>\n",
       "    <tr>\n",
       "      <th>297</th>\n",
       "      <td>Country Åª</td>\n",
       "      <td>Region 3</td>\n",
       "      <td>54.0</td>\n",
       "      <td>1372</td>\n",
       "      <td>73</td>\n",
       "      <td>True</td>\n",
       "    </tr>\n",
       "    <tr>\n",
       "      <th>298</th>\n",
       "      <td>Country Å«</td>\n",
       "      <td>Region 1</td>\n",
       "      <td>29.5</td>\n",
       "      <td>1752</td>\n",
       "      <td>74</td>\n",
       "      <td>False</td>\n",
       "    </tr>\n",
       "    <tr>\n",
       "      <th>299</th>\n",
       "      <td>Country Å¬</td>\n",
       "      <td>Region 4</td>\n",
       "      <td>10.4</td>\n",
       "      <td>1814</td>\n",
       "      <td>71</td>\n",
       "      <td>False</td>\n",
       "    </tr>\n",
       "  </tbody>\n",
       "</table>\n",
       "<p>300 rows × 6 columns</p>\n",
       "</div>"
      ],
      "text/plain": [
       "        Country    Region  Mortality Rate (per 1000 live births)  \\\n",
       "0     Country A  Region 3                                   64.0   \n",
       "1     Country B  Region 4                                   20.6   \n",
       "2     Country C  Region 1                                   14.4   \n",
       "3     Country D  Region 3                                   36.8   \n",
       "4     Country E  Region 3                                   69.1   \n",
       "..          ...       ...                                    ...   \n",
       "295  Country Å¨  Region 4                                   66.6   \n",
       "296  Country Å©  Region 2                                   69.1   \n",
       "297  Country Åª  Region 3                                   54.0   \n",
       "298  Country Å«  Region 1                                   29.5   \n",
       "299  Country Å¬  Region 4                                   10.4   \n",
       "\n",
       "     Healthcare Spending (USD)  Access to Clean Water (%)  \\\n",
       "0                         3423                         60   \n",
       "1                         2714                         76   \n",
       "2                         4686                         44   \n",
       "3                         1213                         58   \n",
       "4                         4102                         98   \n",
       "..                         ...                        ...   \n",
       "295                       4143                         86   \n",
       "296                       4350                         47   \n",
       "297                       1372                         73   \n",
       "298                       1752                         74   \n",
       "299                       1814                         71   \n",
       "\n",
       "     boo_Mortality Rate (per 1000 live births)  \n",
       "0                                         True  \n",
       "1                                        False  \n",
       "2                                        False  \n",
       "3                                        False  \n",
       "4                                         True  \n",
       "..                                         ...  \n",
       "295                                       True  \n",
       "296                                       True  \n",
       "297                                       True  \n",
       "298                                      False  \n",
       "299                                      False  \n",
       "\n",
       "[300 rows x 6 columns]"
      ]
     },
     "execution_count": 43,
     "metadata": {},
     "output_type": "execute_result"
    }
   ],
   "source": [
    "cmd_hometest['boo_Mortality Rate (per 1000 live births)']=cmd_hometest['Mortality Rate (per 1000 live births)']>cmd_hometest['Mortality Rate (per 1000 live births)'].median()\n",
    "cmd_hometest"
   ]
  },
  {
   "cell_type": "markdown",
   "id": "7539822e-ced9-48c3-8a33-ad7d43d1fa4a",
   "metadata": {},
   "source": [
    "## Chi Square\n",
    "\n",
    "To find out if there is a relationship between regions and countries, and if child mortality rate \n",
    "in a country are above or below median null hypothesis we will perfom a chi square:"
   ]
  },
  {
   "cell_type": "code",
   "execution_count": 32,
   "id": "c44af8b3-576c-4511-97cd-323242848d30",
   "metadata": {},
   "outputs": [
    {
     "data": {
      "text/html": [
       "<div>\n",
       "<style scoped>\n",
       "    .dataframe tbody tr th:only-of-type {\n",
       "        vertical-align: middle;\n",
       "    }\n",
       "\n",
       "    .dataframe tbody tr th {\n",
       "        vertical-align: top;\n",
       "    }\n",
       "\n",
       "    .dataframe thead th {\n",
       "        text-align: right;\n",
       "    }\n",
       "</style>\n",
       "<table border=\"1\" class=\"dataframe\">\n",
       "  <thead>\n",
       "    <tr style=\"text-align: right;\">\n",
       "      <th>Mortality Rate (per 1000 live births)</th>\n",
       "      <th>5.3</th>\n",
       "      <th>5.6</th>\n",
       "      <th>5.7</th>\n",
       "      <th>5.9</th>\n",
       "      <th>6.0</th>\n",
       "      <th>6.1</th>\n",
       "      <th>6.2</th>\n",
       "      <th>6.5</th>\n",
       "      <th>6.6</th>\n",
       "      <th>6.7</th>\n",
       "      <th>...</th>\n",
       "      <th>66.8</th>\n",
       "      <th>67.0</th>\n",
       "      <th>67.1</th>\n",
       "      <th>67.5</th>\n",
       "      <th>67.6</th>\n",
       "      <th>67.8</th>\n",
       "      <th>68.2</th>\n",
       "      <th>68.4</th>\n",
       "      <th>69.1</th>\n",
       "      <th>69.4</th>\n",
       "    </tr>\n",
       "    <tr>\n",
       "      <th>Country</th>\n",
       "      <th></th>\n",
       "      <th></th>\n",
       "      <th></th>\n",
       "      <th></th>\n",
       "      <th></th>\n",
       "      <th></th>\n",
       "      <th></th>\n",
       "      <th></th>\n",
       "      <th></th>\n",
       "      <th></th>\n",
       "      <th></th>\n",
       "      <th></th>\n",
       "      <th></th>\n",
       "      <th></th>\n",
       "      <th></th>\n",
       "      <th></th>\n",
       "      <th></th>\n",
       "      <th></th>\n",
       "      <th></th>\n",
       "      <th></th>\n",
       "      <th></th>\n",
       "    </tr>\n",
       "  </thead>\n",
       "  <tbody>\n",
       "    <tr>\n",
       "      <th>Country A</th>\n",
       "      <td>0</td>\n",
       "      <td>0</td>\n",
       "      <td>0</td>\n",
       "      <td>0</td>\n",
       "      <td>0</td>\n",
       "      <td>0</td>\n",
       "      <td>0</td>\n",
       "      <td>0</td>\n",
       "      <td>0</td>\n",
       "      <td>0</td>\n",
       "      <td>...</td>\n",
       "      <td>0</td>\n",
       "      <td>0</td>\n",
       "      <td>0</td>\n",
       "      <td>0</td>\n",
       "      <td>0</td>\n",
       "      <td>0</td>\n",
       "      <td>0</td>\n",
       "      <td>0</td>\n",
       "      <td>0</td>\n",
       "      <td>0</td>\n",
       "    </tr>\n",
       "    <tr>\n",
       "      <th>Country B</th>\n",
       "      <td>0</td>\n",
       "      <td>0</td>\n",
       "      <td>0</td>\n",
       "      <td>0</td>\n",
       "      <td>0</td>\n",
       "      <td>0</td>\n",
       "      <td>0</td>\n",
       "      <td>0</td>\n",
       "      <td>0</td>\n",
       "      <td>0</td>\n",
       "      <td>...</td>\n",
       "      <td>0</td>\n",
       "      <td>0</td>\n",
       "      <td>0</td>\n",
       "      <td>0</td>\n",
       "      <td>0</td>\n",
       "      <td>0</td>\n",
       "      <td>0</td>\n",
       "      <td>0</td>\n",
       "      <td>0</td>\n",
       "      <td>0</td>\n",
       "    </tr>\n",
       "    <tr>\n",
       "      <th>Country C</th>\n",
       "      <td>0</td>\n",
       "      <td>0</td>\n",
       "      <td>0</td>\n",
       "      <td>0</td>\n",
       "      <td>0</td>\n",
       "      <td>0</td>\n",
       "      <td>0</td>\n",
       "      <td>0</td>\n",
       "      <td>0</td>\n",
       "      <td>0</td>\n",
       "      <td>...</td>\n",
       "      <td>0</td>\n",
       "      <td>0</td>\n",
       "      <td>0</td>\n",
       "      <td>0</td>\n",
       "      <td>0</td>\n",
       "      <td>0</td>\n",
       "      <td>0</td>\n",
       "      <td>0</td>\n",
       "      <td>0</td>\n",
       "      <td>0</td>\n",
       "    </tr>\n",
       "    <tr>\n",
       "      <th>Country D</th>\n",
       "      <td>0</td>\n",
       "      <td>0</td>\n",
       "      <td>0</td>\n",
       "      <td>0</td>\n",
       "      <td>0</td>\n",
       "      <td>0</td>\n",
       "      <td>0</td>\n",
       "      <td>0</td>\n",
       "      <td>0</td>\n",
       "      <td>0</td>\n",
       "      <td>...</td>\n",
       "      <td>0</td>\n",
       "      <td>0</td>\n",
       "      <td>0</td>\n",
       "      <td>0</td>\n",
       "      <td>0</td>\n",
       "      <td>0</td>\n",
       "      <td>0</td>\n",
       "      <td>0</td>\n",
       "      <td>0</td>\n",
       "      <td>0</td>\n",
       "    </tr>\n",
       "    <tr>\n",
       "      <th>Country E</th>\n",
       "      <td>0</td>\n",
       "      <td>0</td>\n",
       "      <td>0</td>\n",
       "      <td>0</td>\n",
       "      <td>0</td>\n",
       "      <td>0</td>\n",
       "      <td>0</td>\n",
       "      <td>0</td>\n",
       "      <td>0</td>\n",
       "      <td>0</td>\n",
       "      <td>...</td>\n",
       "      <td>0</td>\n",
       "      <td>0</td>\n",
       "      <td>0</td>\n",
       "      <td>0</td>\n",
       "      <td>0</td>\n",
       "      <td>0</td>\n",
       "      <td>0</td>\n",
       "      <td>0</td>\n",
       "      <td>1</td>\n",
       "      <td>0</td>\n",
       "    </tr>\n",
       "  </tbody>\n",
       "</table>\n",
       "<p>5 rows × 233 columns</p>\n",
       "</div>"
      ],
      "text/plain": [
       "Mortality Rate (per 1000 live births)  5.3   5.6   5.7   5.9   6.0   6.1   \\\n",
       "Country                                                                     \n",
       "Country A                                 0     0     0     0     0     0   \n",
       "Country B                                 0     0     0     0     0     0   \n",
       "Country C                                 0     0     0     0     0     0   \n",
       "Country D                                 0     0     0     0     0     0   \n",
       "Country E                                 0     0     0     0     0     0   \n",
       "\n",
       "Mortality Rate (per 1000 live births)  6.2   6.5   6.6   6.7   ...  66.8  \\\n",
       "Country                                                        ...         \n",
       "Country A                                 0     0     0     0  ...     0   \n",
       "Country B                                 0     0     0     0  ...     0   \n",
       "Country C                                 0     0     0     0  ...     0   \n",
       "Country D                                 0     0     0     0  ...     0   \n",
       "Country E                                 0     0     0     0  ...     0   \n",
       "\n",
       "Mortality Rate (per 1000 live births)  67.0  67.1  67.5  67.6  67.8  68.2  \\\n",
       "Country                                                                     \n",
       "Country A                                 0     0     0     0     0     0   \n",
       "Country B                                 0     0     0     0     0     0   \n",
       "Country C                                 0     0     0     0     0     0   \n",
       "Country D                                 0     0     0     0     0     0   \n",
       "Country E                                 0     0     0     0     0     0   \n",
       "\n",
       "Mortality Rate (per 1000 live births)  68.4  69.1  69.4  \n",
       "Country                                                  \n",
       "Country A                                 0     0     0  \n",
       "Country B                                 0     0     0  \n",
       "Country C                                 0     0     0  \n",
       "Country D                                 0     0     0  \n",
       "Country E                                 0     1     0  \n",
       "\n",
       "[5 rows x 233 columns]"
      ]
     },
     "execution_count": 32,
     "metadata": {},
     "output_type": "execute_result"
    }
   ],
   "source": [
    "regcountry_mor_table= pd.crosstab(cmd_hometest['Country'], cmd_hometest['Mortality Rate (per 1000 live births)'])\n",
    "regcountry_mor_table.head()"
   ]
  },
  {
   "cell_type": "code",
   "execution_count": 34,
   "id": "e2878e6d-5e91-4d10-a7b5-d9f3f35d4c93",
   "metadata": {},
   "outputs": [
    {
     "data": {
      "text/plain": [
       "(69599.99999999999,\n",
       " 0.26632674604733814,\n",
       " 69368,\n",
       " array([[0.00333333, 0.00333333, 0.00333333, ..., 0.00333333, 0.01      ,\n",
       "         0.00666667],\n",
       "        [0.00333333, 0.00333333, 0.00333333, ..., 0.00333333, 0.01      ,\n",
       "         0.00666667],\n",
       "        [0.00333333, 0.00333333, 0.00333333, ..., 0.00333333, 0.01      ,\n",
       "         0.00666667],\n",
       "        ...,\n",
       "        [0.00333333, 0.00333333, 0.00333333, ..., 0.00333333, 0.01      ,\n",
       "         0.00666667],\n",
       "        [0.00333333, 0.00333333, 0.00333333, ..., 0.00333333, 0.01      ,\n",
       "         0.00666667],\n",
       "        [0.00333333, 0.00333333, 0.00333333, ..., 0.00333333, 0.01      ,\n",
       "         0.00666667]]))"
      ]
     },
     "execution_count": 34,
     "metadata": {},
     "output_type": "execute_result"
    }
   ],
   "source": [
    "chi2_stat, p, dof, expected= stats.chi2_contingency(regcountry_mor_table)\n",
    "chi2_stat, p, dof, expected"
   ]
  },
  {
   "cell_type": "markdown",
   "id": "310296fd-3961-4e21-957c-fd6332cdebfd",
   "metadata": {},
   "source": [
    "The null hypothesis states that there is a significant relation between countries and child mortality rate\n",
    "\n",
    "\n",
    "The resulting p-value of 0.2 is greater than the significance threshold of 0.05. \n",
    "As a result, we fail to reject the null hypothesis, indicating that there is no statistically significant association between countries and \n",
    "child mortality rates based on the data provided. This suggests that child mortality rates may not vary significantly across countries in this dataset."
   ]
  },
  {
   "cell_type": "code",
   "execution_count": 57,
   "id": "f40df95f-a51d-43d4-aa3e-736722a00270",
   "metadata": {},
   "outputs": [
    {
     "data": {
      "text/html": [
       "<div>\n",
       "<style scoped>\n",
       "    .dataframe tbody tr th:only-of-type {\n",
       "        vertical-align: middle;\n",
       "    }\n",
       "\n",
       "    .dataframe tbody tr th {\n",
       "        vertical-align: top;\n",
       "    }\n",
       "\n",
       "    .dataframe thead th {\n",
       "        text-align: right;\n",
       "    }\n",
       "</style>\n",
       "<table border=\"1\" class=\"dataframe\">\n",
       "  <thead>\n",
       "    <tr style=\"text-align: right;\">\n",
       "      <th>boo_Mortality Rate (per 1000 live births)</th>\n",
       "      <th>False</th>\n",
       "      <th>True</th>\n",
       "    </tr>\n",
       "    <tr>\n",
       "      <th>Region</th>\n",
       "      <th></th>\n",
       "      <th></th>\n",
       "    </tr>\n",
       "  </thead>\n",
       "  <tbody>\n",
       "    <tr>\n",
       "      <th>Region 1</th>\n",
       "      <td>39</td>\n",
       "      <td>35</td>\n",
       "    </tr>\n",
       "    <tr>\n",
       "      <th>Region 2</th>\n",
       "      <td>33</td>\n",
       "      <td>35</td>\n",
       "    </tr>\n",
       "    <tr>\n",
       "      <th>Region 3</th>\n",
       "      <td>37</td>\n",
       "      <td>40</td>\n",
       "    </tr>\n",
       "    <tr>\n",
       "      <th>Region 4</th>\n",
       "      <td>41</td>\n",
       "      <td>40</td>\n",
       "    </tr>\n",
       "  </tbody>\n",
       "</table>\n",
       "</div>"
      ],
      "text/plain": [
       "boo_Mortality Rate (per 1000 live births)  False  True \n",
       "Region                                                 \n",
       "Region 1                                      39     35\n",
       "Region 2                                      33     35\n",
       "Region 3                                      37     40\n",
       "Region 4                                      41     40"
      ]
     },
     "execution_count": 57,
     "metadata": {},
     "output_type": "execute_result"
    }
   ],
   "source": [
    "regcountry_mor_table2= pd.crosstab(cmd_hometest['Region'], cmd_hometest['boo_Mortality Rate (per 1000 live births)'])\n",
    "regcountry_mor_table2"
   ]
  },
  {
   "cell_type": "code",
   "execution_count": 61,
   "id": "dea8a70f-4168-4280-b94c-18768af29e0c",
   "metadata": {},
   "outputs": [
    {
     "data": {
      "text/plain": [
       "(0.4042685415234435,\n",
       " 0.9393593093301577,\n",
       " 3,\n",
       " array([[37. , 37. ],\n",
       "        [34. , 34. ],\n",
       "        [38.5, 38.5],\n",
       "        [40.5, 40.5]]))"
      ]
     },
     "execution_count": 61,
     "metadata": {},
     "output_type": "execute_result"
    }
   ],
   "source": [
    "chi2_stat, p, dof, expected= stats.chi2_contingency(regcountry_mor_table2)\n",
    "chi2_stat, p, dof, expected"
   ]
  },
  {
   "cell_type": "markdown",
   "id": "6e20c186-d341-4128-a9a0-e69ffba599ef",
   "metadata": {},
   "source": [
    "## Interpretation\n",
    "the null hypothesis states that there is a significant relationship between regions and child mortality rate\n",
    "\n",
    "The chi-square test was used to check if there's a relationship between regions and child mortality rates. \n",
    "The p-value of 0.939 is much greater than 0.05, so we fail to reject the null hypothesis. \n",
    "This means there is no significant link between regions and child mortality rates; the observed differences likely occurred by chance."
   ]
  },
  {
   "cell_type": "markdown",
   "id": "9fb2bd82-8c47-4ff5-a4df-645e77168b7f",
   "metadata": {},
   "source": [
    "## ANOVA\n",
    "\n",
    "here the null hypothesis shows that there is a significant difference between the mean with at least one region and child mortality rate"
   ]
  },
  {
   "cell_type": "code",
   "execution_count": 65,
   "id": "a121dcad-ad41-4088-8372-1d80615882f3",
   "metadata": {},
   "outputs": [],
   "source": [
    "region_1_mr=cmd_hometest[cmd_hometest['Region']=='Region 1']['Mortality Rate (per 1000 live births)']\n",
    "region_2_mr=cmd_hometest[cmd_hometest['Region']=='Region 2']['Mortality Rate (per 1000 live births)']\n",
    "region_3_mr=cmd_hometest[cmd_hometest['Region']=='Region 3']['Mortality Rate (per 1000 live births)']\n",
    "region_4_mr=cmd_hometest[cmd_hometest['Region']=='Region 4']['Mortality Rate (per 1000 live births)']"
   ]
  },
  {
   "cell_type": "code",
   "execution_count": 67,
   "id": "b4542dfc-8c17-467e-a42b-f647bab75f75",
   "metadata": {},
   "outputs": [
    {
     "data": {
      "text/plain": [
       "(0.48888577081013473, 0.6902549035098264)"
      ]
     },
     "execution_count": 67,
     "metadata": {},
     "output_type": "execute_result"
    }
   ],
   "source": [
    "f_stat,p_value=stats.f_oneway(region_1_mr,region_2_mr,region_3_mr,region_4_mr)\n",
    "f_stat,p_value"
   ]
  },
  {
   "cell_type": "markdown",
   "id": "b9643164-9905-4bc7-b5d1-80e8506211e2",
   "metadata": {},
   "source": [
    "## Interpretation\n",
    "\n",
    "The ANOVA test shows no significant difference in child mortality rates between the regions. \n",
    "With an F-statistic of 0.489 and a p-value of 0.690, which is greater than 0.05, we fail to reject the \n",
    "null hypothesis. This suggests that the variations in mortality rates are not statistically significant across the regions, \n",
    "meaning the regions likely have similar child mortality rates.\n"
   ]
  },
  {
   "cell_type": "markdown",
   "id": "1b5ec490-ccf6-4d2f-b38f-c23ccb7518ab",
   "metadata": {},
   "source": [
    "## Correlation\n",
    "\n",
    "\n",
    "## Pearson correlation"
   ]
  },
  {
   "cell_type": "code",
   "execution_count": 74,
   "id": "7c530ea8-e5d2-4caa-89fe-8a7865b8b712",
   "metadata": {},
   "outputs": [
    {
     "data": {
      "text/plain": [
       "(-0.03441350913525526, 0.552681337523697)"
      ]
     },
     "execution_count": 74,
     "metadata": {},
     "output_type": "execute_result"
    }
   ],
   "source": [
    "correlation, p_value= stats.pearsonr(cmd_hometest['Healthcare Spending (USD)'], cmd_hometest['Mortality Rate (per 1000 live births)'])\r\n",
    "correlation, p_value"
   ]
  },
  {
   "cell_type": "markdown",
   "id": "cd76e126-4d55-4604-8442-e62416868e85",
   "metadata": {},
   "source": [
    "## Interpretation\n",
    "\n",
    "The Pearson correlation coefficient between healthcare spending (USD) and mortality rate (per 1000 live births) is -0.034, \n",
    "indicating a very weak negative relationship. The p-value of 0.553 is greater than 0.05, which means the correlation is not statistically significant. \n",
    "This suggests that there is no meaningful relationship between healthcare spending and child mortality rate in this dataset."
   ]
  },
  {
   "cell_type": "markdown",
   "id": "7ad6f6c9-52b8-4f5f-9cd9-86456518d18f",
   "metadata": {},
   "source": [
    "## Spearman correlation"
   ]
  },
  {
   "cell_type": "code",
   "execution_count": 77,
   "id": "19ef05a7-a345-447c-a491-91e3be27ba43",
   "metadata": {},
   "outputs": [
    {
     "data": {
      "text/plain": [
       "(-0.027124530837328457, 0.6398307454535692)"
      ]
     },
     "execution_count": 77,
     "metadata": {},
     "output_type": "execute_result"
    }
   ],
   "source": [
    "correlation, p_value= stats.spearmanr(cmd_hometest['Healthcare Spending (USD)'], cmd_hometest['Mortality Rate (per 1000 live births)'])\n",
    "correlation, p_value"
   ]
  },
  {
   "cell_type": "code",
   "execution_count": null,
   "id": "f03feff0-02cb-43f7-8054-7377845e8841",
   "metadata": {},
   "outputs": [],
   "source": []
  }
 ],
 "metadata": {
  "kernelspec": {
   "display_name": "Python 3 (ipykernel)",
   "language": "python",
   "name": "python3"
  },
  "language_info": {
   "codemirror_mode": {
    "name": "ipython",
    "version": 3
   },
   "file_extension": ".py",
   "mimetype": "text/x-python",
   "name": "python",
   "nbconvert_exporter": "python",
   "pygments_lexer": "ipython3",
   "version": "3.12.4"
  }
 },
 "nbformat": 4,
 "nbformat_minor": 5
}
